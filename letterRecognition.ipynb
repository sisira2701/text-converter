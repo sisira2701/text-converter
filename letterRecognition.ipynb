{
  "nbformat": 4,
  "nbformat_minor": 0,
  "metadata": {
    "colab": {
      "provenance": []
    },
    "kernelspec": {
      "name": "python3",
      "display_name": "Python 3"
    },
    "language_info": {
      "name": "python"
    },
    "accelerator": "GPU",
    "gpuClass": "standard"
  },
  "cells": [
    {
      "cell_type": "code",
      "source": [
        "pip install emnist"
      ],
      "metadata": {
        "colab": {
          "base_uri": "https://localhost:8080/"
        },
        "id": "0eqb0kzrjut3",
        "outputId": "098c2cf7-3669-4b10-e437-2d12c69bb269"
      },
      "execution_count": null,
      "outputs": [
        {
          "output_type": "stream",
          "name": "stdout",
          "text": [
            "Looking in indexes: https://pypi.org/simple, https://us-python.pkg.dev/colab-wheels/public/simple/\n",
            "Requirement already satisfied: emnist in /usr/local/lib/python3.8/dist-packages (0.0)\n",
            "Requirement already satisfied: numpy in /usr/local/lib/python3.8/dist-packages (from emnist) (1.21.6)\n",
            "Requirement already satisfied: tqdm in /usr/local/lib/python3.8/dist-packages (from emnist) (4.64.1)\n",
            "Requirement already satisfied: requests in /usr/local/lib/python3.8/dist-packages (from emnist) (2.23.0)\n",
            "Requirement already satisfied: urllib3!=1.25.0,!=1.25.1,<1.26,>=1.21.1 in /usr/local/lib/python3.8/dist-packages (from requests->emnist) (1.24.3)\n",
            "Requirement already satisfied: certifi>=2017.4.17 in /usr/local/lib/python3.8/dist-packages (from requests->emnist) (2022.9.24)\n",
            "Requirement already satisfied: idna<3,>=2.5 in /usr/local/lib/python3.8/dist-packages (from requests->emnist) (2.10)\n",
            "Requirement already satisfied: chardet<4,>=3.0.2 in /usr/local/lib/python3.8/dist-packages (from requests->emnist) (3.0.4)\n"
          ]
        }
      ]
    },
    {
      "cell_type": "code",
      "execution_count": null,
      "metadata": {
        "id": "xV3z363WjduL"
      },
      "outputs": [],
      "source": [
        "import emnist\n",
        "from emnist import extract_training_samples\n",
        "import cv2\n",
        "import numpy as np\n",
        "import tensorflow as tf\n",
        "import keras\n",
        "import sklearn\n",
        "from sklearn.preprocessing import OneHotEncoder , LabelEncoder\n",
        "from sklearn.metrics import confusion_matrix\n",
        "from sklearn.metrics import precision_score, recall_score\n",
        "from tensorflow.keras import layers\n",
        "from tensorflow.keras.layers import Conv2D , MaxPooling2D\n",
        "from keras.layers import Dense, Flatten\n",
        "import pandas as pd\n",
        "from tensorflow.keras import regularizers\n",
        "from keras.utils import to_categorical\n"
      ]
    },
    {
      "cell_type": "code",
      "source": [
        "img, labels = extract_training_samples('letters')\n",
        "img = img/255\n",
        "# for i in img:\n",
        "#     i = cv2.GaussianBlur(i,(3,3),0)"
      ],
      "metadata": {
        "id": "3dqLG86jjn5a"
      },
      "execution_count": null,
      "outputs": []
    },
    {
      "cell_type": "code",
      "source": [
        "# labels = to_categorical(labels1)"
      ],
      "metadata": {
        "id": "3TWRcG7Aq2HM"
      },
      "execution_count": null,
      "outputs": []
    },
    {
      "cell_type": "code",
      "source": [
        "# x = to_categorical([1,2,3,1])\n",
        "# np.unique(x),x"
      ],
      "metadata": {
        "colab": {
          "base_uri": "https://localhost:8080/"
        },
        "id": "jZ31bfD2ucTc",
        "outputId": "29a7f2e5-3bb6-4526-b308-dfdcafa83958"
      },
      "execution_count": null,
      "outputs": [
        {
          "output_type": "execute_result",
          "data": {
            "text/plain": [
              "(array([0., 1.], dtype=float32), array([[0., 1., 0., 0.],\n",
              "        [0., 0., 1., 0.],\n",
              "        [0., 0., 0., 1.],\n",
              "        [0., 1., 0., 0.]], dtype=float32))"
            ]
          },
          "metadata": {},
          "execution_count": 31
        }
      ]
    },
    {
      "cell_type": "code",
      "source": [
        "x_train, x_test = img[:60000], img[60000:70000] \n",
        "y_train, y_test = labels[:60000], labels[60000:70000]\n",
        "y_train = to_categorical(y_train)\n",
        "x_train = x_train.reshape(60000,28,28,1)\n",
        "x_test = x_test.reshape(10000,28,28,1)\n",
        "print(\"Train X: \", x_train.shape)\n",
        "print(\"Train Y: \", y_train.shape)\n",
        "print(\"Test X:\", x_test.shape)\n",
        "print(\"Test Y:\", y_test.shape)"
      ],
      "metadata": {
        "colab": {
          "base_uri": "https://localhost:8080/"
        },
        "id": "r2ojxvUojp6H",
        "outputId": "6cee21be-0d2e-4db7-f14a-8cee592e6106"
      },
      "execution_count": null,
      "outputs": [
        {
          "output_type": "stream",
          "name": "stdout",
          "text": [
            "Train X:  (60000, 28, 28, 1)\n",
            "Train Y:  (60000, 27)\n",
            "Test X: (10000, 28, 28, 1)\n",
            "Test Y: (10000,)\n"
          ]
        }
      ]
    },
    {
      "cell_type": "code",
      "source": [
        "def block1(model,fil,k,pad):\n",
        "    \n",
        "    model.add(layers.Conv2D(fil, (k, k), activation= 'relu', padding = 'same', input_shape=(28, 28,1)))\n",
        "    model.add(layers.MaxPooling2D((2, 2)))\n",
        "    model.add(layers.Conv2D(fil, (k, k), activation= 'relu', input_shape=(28, 28,1)))\n",
        "    model.add(layers.MaxPooling2D((2, 2)))\n",
        "def ann(model):\n",
        "    model.add(Flatten())\n",
        "    model.add(Dense(200, activation='relu'))\n",
        "    layers.BatchNormalization(),\n",
        "    model.add(Dense(100, activation='relu'))\n",
        "    layers.BatchNormalization(),\n",
        "    model.add(Dense(27, activation='softmax'))\n",
        "def model_compile():\n",
        "    model.compile(optimizer = 'adam',\n",
        "                    loss = 'categorical_crossentropy',\n",
        "                    metrics = ['accuracy'])"
      ],
      "metadata": {
        "id": "qwQQP7-4j4kY"
      },
      "execution_count": null,
      "outputs": []
    },
    {
      "cell_type": "code",
      "source": [
        "model = keras.Sequential()\n",
        "\n",
        "block1(model,64,3,'same')\n",
        "ann(model)\n",
        "model_compile()\n",
        "# print(model.summary())"
      ],
      "metadata": {
        "id": "ZBiZX9qaj7XT"
      },
      "execution_count": null,
      "outputs": []
    },
    {
      "cell_type": "code",
      "source": [
        "history = model.fit(x = x_train,\n",
        "              y = y_train,\n",
        "              batch_size = 64,\n",
        "              epochs = 50,\n",
        "#               verbose = 0,\n",
        "              )"
      ],
      "metadata": {
        "colab": {
          "base_uri": "https://localhost:8080/"
        },
        "id": "y6WajSm6j--q",
        "outputId": "60e774ef-895e-4bee-cd01-7dbb162edefe"
      },
      "execution_count": null,
      "outputs": [
        {
          "output_type": "stream",
          "name": "stdout",
          "text": [
            "Epoch 1/50\n",
            "938/938 [==============================] - 5s 5ms/step - loss: 0.1065 - accuracy: 0.9739\n",
            "Epoch 2/50\n",
            "938/938 [==============================] - 4s 4ms/step - loss: 0.0438 - accuracy: 0.9873\n",
            "Epoch 3/50\n",
            "938/938 [==============================] - 4s 4ms/step - loss: 0.0254 - accuracy: 0.9919\n",
            "Epoch 4/50\n",
            "938/938 [==============================] - 4s 4ms/step - loss: 0.0233 - accuracy: 0.9916\n",
            "Epoch 5/50\n",
            "938/938 [==============================] - 4s 4ms/step - loss: 0.0215 - accuracy: 0.9922\n",
            "Epoch 6/50\n",
            "938/938 [==============================] - 4s 4ms/step - loss: 0.0205 - accuracy: 0.9930\n",
            "Epoch 7/50\n",
            "938/938 [==============================] - 4s 4ms/step - loss: 0.0176 - accuracy: 0.9935\n",
            "Epoch 8/50\n",
            "938/938 [==============================] - 4s 4ms/step - loss: 0.0174 - accuracy: 0.9940\n",
            "Epoch 9/50\n",
            "938/938 [==============================] - 4s 4ms/step - loss: 0.0174 - accuracy: 0.9945\n",
            "Epoch 10/50\n",
            "938/938 [==============================] - 4s 4ms/step - loss: 0.0190 - accuracy: 0.9942\n",
            "Epoch 11/50\n",
            "938/938 [==============================] - 4s 4ms/step - loss: 0.0093 - accuracy: 0.9969\n",
            "Epoch 12/50\n",
            "938/938 [==============================] - 4s 4ms/step - loss: 0.0146 - accuracy: 0.9951\n",
            "Epoch 13/50\n",
            "938/938 [==============================] - 4s 4ms/step - loss: 0.0189 - accuracy: 0.9941\n",
            "Epoch 14/50\n",
            "938/938 [==============================] - 4s 4ms/step - loss: 0.0136 - accuracy: 0.9958\n",
            "Epoch 15/50\n",
            "938/938 [==============================] - 4s 4ms/step - loss: 0.0115 - accuracy: 0.9963\n",
            "Epoch 16/50\n",
            "938/938 [==============================] - 4s 4ms/step - loss: 0.0148 - accuracy: 0.9955\n",
            "Epoch 17/50\n",
            "938/938 [==============================] - 4s 5ms/step - loss: 0.0151 - accuracy: 0.9955\n",
            "Epoch 18/50\n",
            "938/938 [==============================] - 4s 4ms/step - loss: 0.0144 - accuracy: 0.9958\n",
            "Epoch 19/50\n",
            "938/938 [==============================] - 4s 4ms/step - loss: 0.0113 - accuracy: 0.9961\n",
            "Epoch 20/50\n",
            "938/938 [==============================] - 4s 4ms/step - loss: 0.0103 - accuracy: 0.9970\n",
            "Epoch 21/50\n",
            "938/938 [==============================] - 4s 4ms/step - loss: 0.0106 - accuracy: 0.9965\n",
            "Epoch 22/50\n",
            "938/938 [==============================] - 4s 4ms/step - loss: 0.0132 - accuracy: 0.9961\n",
            "Epoch 23/50\n",
            "938/938 [==============================] - 4s 4ms/step - loss: 0.0113 - accuracy: 0.9969\n",
            "Epoch 24/50\n",
            "938/938 [==============================] - 4s 4ms/step - loss: 0.0129 - accuracy: 0.9956\n",
            "Epoch 25/50\n",
            "938/938 [==============================] - 4s 4ms/step - loss: 0.0116 - accuracy: 0.9965\n",
            "Epoch 26/50\n",
            "938/938 [==============================] - 4s 4ms/step - loss: 0.0094 - accuracy: 0.9969\n",
            "Epoch 27/50\n",
            "938/938 [==============================] - 4s 4ms/step - loss: 0.0155 - accuracy: 0.9957\n",
            "Epoch 28/50\n",
            "938/938 [==============================] - 4s 4ms/step - loss: 0.0114 - accuracy: 0.9966\n",
            "Epoch 29/50\n",
            "938/938 [==============================] - 5s 5ms/step - loss: 0.0110 - accuracy: 0.9968\n",
            "Epoch 30/50\n",
            "938/938 [==============================] - 5s 5ms/step - loss: 0.0066 - accuracy: 0.9979\n",
            "Epoch 31/50\n",
            "938/938 [==============================] - 4s 5ms/step - loss: 0.0126 - accuracy: 0.9962\n",
            "Epoch 32/50\n",
            "938/938 [==============================] - 4s 4ms/step - loss: 0.0148 - accuracy: 0.9959\n",
            "Epoch 33/50\n",
            "938/938 [==============================] - 5s 5ms/step - loss: 0.0114 - accuracy: 0.9966\n",
            "Epoch 34/50\n",
            "938/938 [==============================] - 4s 5ms/step - loss: 0.0076 - accuracy: 0.9979\n",
            "Epoch 35/50\n",
            "938/938 [==============================] - 4s 4ms/step - loss: 0.0126 - accuracy: 0.9965\n",
            "Epoch 36/50\n",
            "938/938 [==============================] - 4s 5ms/step - loss: 0.0119 - accuracy: 0.9965\n",
            "Epoch 37/50\n",
            "938/938 [==============================] - 4s 4ms/step - loss: 0.0099 - accuracy: 0.9973\n",
            "Epoch 38/50\n",
            "938/938 [==============================] - 4s 4ms/step - loss: 0.0140 - accuracy: 0.9964\n",
            "Epoch 39/50\n",
            "938/938 [==============================] - 4s 4ms/step - loss: 0.0070 - accuracy: 0.9980\n",
            "Epoch 40/50\n",
            "938/938 [==============================] - 4s 5ms/step - loss: 0.0110 - accuracy: 0.9969\n",
            "Epoch 41/50\n",
            "938/938 [==============================] - 4s 5ms/step - loss: 0.0084 - accuracy: 0.9974\n",
            "Epoch 42/50\n",
            "938/938 [==============================] - 4s 4ms/step - loss: 0.0087 - accuracy: 0.9975\n",
            "Epoch 43/50\n",
            "938/938 [==============================] - 4s 4ms/step - loss: 0.0104 - accuracy: 0.9971\n",
            "Epoch 44/50\n",
            "938/938 [==============================] - 4s 4ms/step - loss: 0.0105 - accuracy: 0.9972\n",
            "Epoch 45/50\n",
            "938/938 [==============================] - 4s 4ms/step - loss: 0.0068 - accuracy: 0.9980\n",
            "Epoch 46/50\n",
            "938/938 [==============================] - 4s 4ms/step - loss: 0.0141 - accuracy: 0.9964\n",
            "Epoch 47/50\n",
            "938/938 [==============================] - 4s 4ms/step - loss: 0.0104 - accuracy: 0.9970\n",
            "Epoch 48/50\n",
            "938/938 [==============================] - 4s 4ms/step - loss: 0.0110 - accuracy: 0.9970\n",
            "Epoch 49/50\n",
            "938/938 [==============================] - 4s 4ms/step - loss: 0.0093 - accuracy: 0.9975\n",
            "Epoch 50/50\n",
            "938/938 [==============================] - 4s 4ms/step - loss: 0.0070 - accuracy: 0.9982\n"
          ]
        }
      ]
    },
    {
      "cell_type": "code",
      "source": [
        "predictions = model.predict(x_test)"
      ],
      "metadata": {
        "colab": {
          "base_uri": "https://localhost:8080/"
        },
        "id": "l0gT3jY5kmbo",
        "outputId": "7e0dbc98-218e-47b5-ada8-9e5d15526b75"
      },
      "execution_count": null,
      "outputs": [
        {
          "output_type": "stream",
          "name": "stdout",
          "text": [
            "313/313 [==============================] - 1s 2ms/step\n"
          ]
        }
      ]
    },
    {
      "cell_type": "code",
      "source": [
        "pred = []\n",
        "for lst in predictions:\n",
        "    idx = np. where(lst == max(lst))\n",
        "    pred.append(idx[0][0])"
      ],
      "metadata": {
        "id": "z1PK-yFUxSqA"
      },
      "execution_count": null,
      "outputs": []
    },
    {
      "cell_type": "code",
      "source": [
        "print(precision_score(y_test,pred,average='micro'))"
      ],
      "metadata": {
        "colab": {
          "base_uri": "https://localhost:8080/"
        },
        "id": "gDaXL-AAvyoX",
        "outputId": "06e58c7b-cf55-4295-9e74-348dc93ad0b8"
      },
      "execution_count": null,
      "outputs": [
        {
          "output_type": "stream",
          "name": "stdout",
          "text": [
            "0.9203\n"
          ]
        }
      ]
    },
    {
      "cell_type": "code",
      "source": [],
      "metadata": {
        "id": "WA8I7CS3xbrn"
      },
      "execution_count": null,
      "outputs": []
    }
  ]
}