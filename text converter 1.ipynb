{
 "cells": [
  {
   "cell_type": "code",
   "execution_count": 9,
   "metadata": {},
   "outputs": [],
   "source": [
    "# !pip install emnist "
   ]
  },
  {
   "cell_type": "code",
   "execution_count": 2,
   "metadata": {},
   "outputs": [],
   "source": [
    "from emnist import extract_training_samples"
   ]
  },
  {
   "cell_type": "code",
   "execution_count": 3,
   "metadata": {},
   "outputs": [],
   "source": [
    "img, labels = extract_training_samples('letters')"
   ]
  },
  {
   "cell_type": "code",
   "execution_count": 4,
   "metadata": {},
   "outputs": [],
   "source": [
    "img = img/255"
   ]
  },
  {
   "cell_type": "markdown",
   "metadata": {},
   "source": [
    "theory:\n",
    "28*28 pixel images = 784 neurons -> inputs. \n",
    "26 letters = 26 neurons ->outputs.\n",
    "\n",
    "for hidden layers, let's experiment and see what works."
   ]
  },
  {
   "cell_type": "code",
   "execution_count": 5,
   "metadata": {},
   "outputs": [],
   "source": [
    "#training and testing data split\n",
    "img_train, img_test = img[:60000], img[60000:70000] \n",
    "label_train, label_test = labels[:60000], labels[60000:70000] "
   ]
  },
  {
   "cell_type": "code",
   "execution_count": 6,
   "metadata": {},
   "outputs": [],
   "source": [
    "img_train = img_train.reshape(60000,784)\n",
    "img_test = img_test.reshape(10000,784)"
   ]
  },
  {
   "cell_type": "markdown",
   "metadata": {},
   "source": [
    "Using MLP from sklearn."
   ]
  },
  {
   "cell_type": "code",
   "execution_count": 7,
   "metadata": {},
   "outputs": [],
   "source": [
    " from sklearn.datasets import fetch_openml"
   ]
  },
  {
   "cell_type": "code",
   "execution_count": 8,
   "metadata": {},
   "outputs": [],
   "source": [
    "from sklearn.neural_network import MLPClassifier"
   ]
  },
  {
   "cell_type": "markdown",
   "metadata": {},
   "source": [
    "Trying diiferent combinations of epochs and hidden layers"
   ]
  },
  {
   "cell_type": "code",
   "execution_count": 9,
   "metadata": {},
   "outputs": [],
   "source": [
    "mlp1 = MLPClassifier(hidden_layer_sizes=(50,),max_iter=20,alpha=1e-4,\n",
    "                        solver='sgd', verbose=10, tol=1e-4, random_state=1,\n",
    "                    learning_rate_init=.1)"
   ]
  },
  {
   "cell_type": "code",
   "execution_count": 10,
   "metadata": {
    "scrolled": true
   },
   "outputs": [
    {
     "name": "stdout",
     "output_type": "stream",
     "text": [
      "Iteration 1, loss = 1.06351395\n",
      "Iteration 2, loss = 0.64844650\n",
      "Iteration 3, loss = 0.56103245\n",
      "Iteration 4, loss = 0.51987725\n",
      "Iteration 5, loss = 0.49182099\n",
      "Iteration 6, loss = 0.47301057\n",
      "Iteration 7, loss = 0.45839220\n",
      "Iteration 8, loss = 0.44603836\n",
      "Iteration 9, loss = 0.43479721\n",
      "Iteration 10, loss = 0.42809575\n",
      "Iteration 11, loss = 0.41639233\n",
      "Iteration 12, loss = 0.40782908\n",
      "Iteration 13, loss = 0.40548360\n",
      "Iteration 14, loss = 0.39965983\n",
      "Iteration 15, loss = 0.39296832\n",
      "Iteration 16, loss = 0.38883219\n",
      "Iteration 17, loss = 0.38393955\n",
      "Iteration 18, loss = 0.37948343\n",
      "Iteration 19, loss = 0.37307616\n",
      "Iteration 20, loss = 0.37166732\n"
     ]
    },
    {
     "name": "stderr",
     "output_type": "stream",
     "text": [
      "C:\\Users\\91924\\Anaconda3\\lib\\site-packages\\sklearn\\neural_network\\multilayer_perceptron.py:566: ConvergenceWarning: Stochastic Optimizer: Maximum iterations (20) reached and the optimization hasn't converged yet.\n",
      "  % self.max_iter, ConvergenceWarning)\n"
     ]
    },
    {
     "name": "stdout",
     "output_type": "stream",
     "text": [
      "training set score:  0.8865\n",
      "test set score:  0.8408\n"
     ]
    }
   ],
   "source": [
    "#error of the loss function\n",
    "mlp1.fit(img_train,label_train)\n",
    "print(\"training set score: \",mlp1.score(img_train,label_train))\n",
    "print(\"test set score: \",mlp1.score(img_test,label_test))"
   ]
  },
  {
   "cell_type": "markdown",
   "metadata": {},
   "source": [
    "displaying confusion matrix to see where the network made most of it's mistakes"
   ]
  },
  {
   "cell_type": "code",
   "execution_count": 12,
   "metadata": {},
   "outputs": [
    {
     "data": {
      "text/plain": [
       "<matplotlib.image.AxesImage at 0x21a2d4f6f48>"
      ]
     },
     "execution_count": 12,
     "metadata": {},
     "output_type": "execute_result"
    },
    {
     "data": {
      "image/png": "[encoded data removed]",
      "text/plain": [
       "<Figure size 288x288 with 1 Axes>"
      ]
     },
     "metadata": {
      "needs_background": "light"
     },
     "output_type": "display_data"
    }
   ],
   "source": [
    "label_pred = mlp1.predict(img_test)\n",
    "\n",
    "from sklearn.metrics import confusion_matrix\n",
    "cm = confusion_matrix(label_test,label_pred)\n",
    "\n",
    "import matplotlib.pyplot as plt\n",
    "plt.matshow(cm)"
   ]
  },
  {
   "cell_type": "markdown",
   "metadata": {},
   "source": [
    "we can notice that:\n",
    "-> i,j letters (at (9,10)) are mixed up.\n",
    "-> "
   ]
  },
  {
   "cell_type": "code",
   "execution_count": 20,
   "metadata": {},
   "outputs": [
    {
     "name": "stdout",
     "output_type": "stream",
     "text": [
      "number of times they mixed up the letters =  109\n"
     ]
    }
   ],
   "source": [
    "#cheching the mixed up letters.\n",
    "\n",
    "p_letter = 'l'\n",
    "a_letter = 'i'\n",
    "\n",
    "miss = []\n",
    "for i in range(len(label_test)):\n",
    "    if(label_test[i]== ord(p_letter)-96 and label_pred[i]==ord(a_letter)-96):\n",
    "        miss.append(i)\n",
    "print(\"number of times they mixed up the letters = \",len(miss))"
   ]
  },
  {
   "cell_type": "code",
   "execution_count": 22,
   "metadata": {},
   "outputs": [
    {
     "name": "stdout",
     "output_type": "stream",
     "text": [
      "Iteration 1, loss = 1.15599672\n",
      "Iteration 2, loss = 0.54834774\n",
      "Iteration 3, loss = 0.44784035\n",
      "Iteration 4, loss = 0.39865207\n",
      "Iteration 5, loss = 0.36308811\n",
      "Iteration 6, loss = 0.33567397\n",
      "Iteration 7, loss = 0.31904877\n",
      "Iteration 8, loss = 0.29485588\n",
      "Iteration 9, loss = 0.27846574\n",
      "Iteration 10, loss = 0.26938228\n",
      "Iteration 11, loss = 0.25802023\n",
      "Iteration 12, loss = 0.25788280\n",
      "Iteration 13, loss = 0.24760647\n",
      "Iteration 14, loss = 0.24042815\n",
      "Iteration 15, loss = 0.23627495\n",
      "Iteration 16, loss = 0.22204688\n",
      "Iteration 17, loss = 0.21618327\n",
      "Iteration 18, loss = 0.21659199\n",
      "Iteration 19, loss = 0.21743049\n",
      "Iteration 20, loss = 0.21713851\n",
      "Iteration 21, loss = 0.21081051\n",
      "Iteration 22, loss = 0.20190616\n",
      "Iteration 23, loss = 0.20160297\n",
      "Iteration 24, loss = 0.20444959\n",
      "Iteration 25, loss = 0.19542590\n",
      "Iteration 26, loss = 0.20111642\n",
      "Iteration 27, loss = 0.20414227\n",
      "Iteration 28, loss = 0.18630043\n",
      "Iteration 29, loss = 0.18877581\n",
      "Iteration 30, loss = 0.18547905\n",
      "Iteration 31, loss = 0.19368002\n",
      "Iteration 32, loss = 0.18311564\n",
      "Iteration 33, loss = 0.18491108\n",
      "Iteration 34, loss = 0.19429050\n",
      "Iteration 35, loss = 0.19353969\n",
      "Iteration 36, loss = 0.18847352\n",
      "Iteration 37, loss = 0.18149848\n",
      "Iteration 38, loss = 0.18586603\n",
      "Iteration 39, loss = 0.16652836\n",
      "Iteration 40, loss = 0.17007679\n",
      "Iteration 41, loss = 0.17955439\n",
      "Iteration 42, loss = 0.18015024\n",
      "Iteration 43, loss = 0.17707758\n",
      "Iteration 44, loss = 0.16406777\n",
      "Iteration 45, loss = 0.16779710\n",
      "Iteration 46, loss = 0.17845439\n",
      "Iteration 47, loss = 0.16653435\n",
      "Iteration 48, loss = 0.17627244\n",
      "Iteration 49, loss = 0.18835279\n",
      "Iteration 50, loss = 0.17571110\n"
     ]
    },
    {
     "name": "stderr",
     "output_type": "stream",
     "text": [
      "C:\\Users\\91924\\Anaconda3\\lib\\site-packages\\sklearn\\neural_network\\multilayer_perceptron.py:566: ConvergenceWarning: Stochastic Optimizer: Maximum iterations (50) reached and the optimization hasn't converged yet.\n",
      "  % self.max_iter, ConvergenceWarning)\n"
     ]
    },
    {
     "name": "stdout",
     "output_type": "stream",
     "text": [
      "training set score:  0.94875\n",
      "test set score:  0.8855\n"
     ]
    }
   ],
   "source": [
    "mlp2 = MLPClassifier(hidden_layer_sizes=(100,100,100,100,100,),max_iter=50,alpha=1e-4,\n",
    "                    solver='sgd', verbose=10, tol=1e-4, random_state=1,\n",
    "                    learning_rate_init=.1)\n",
    "mlp2.fit(img_train,label_train)\n",
    "print(\"training set score: \",mlp2.score(img_train,label_train))\n",
    "print(\"test set score: \",mlp2.score(img_test,label_test))"
   ]
  },
  {
   "cell_type": "code",
   "execution_count": null,
   "metadata": {},
   "outputs": [],
   "source": []
  }
 ],
 "metadata": {
  "kernelspec": {
   "display_name": "Python 3",
   "language": "python",
   "name": "python3"
  },
  "language_info": {
   "codemirror_mode": {
    "name": "ipython",
    "version": 3
   },
   "file_extension": ".py",
   "mimetype": "text/x-python",
   "name": "python",
   "nbconvert_exporter": "python",
   "pygments_lexer": "ipython3",
   "version": "3.7.4"
  }
 },
 "nbformat": 4,
 "nbformat_minor": 2
}
